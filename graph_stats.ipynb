{
 "cells": [
  {
   "cell_type": "code",
   "execution_count": null,
   "metadata": {
    "collapsed": false
   },
   "outputs": [],
   "source": [
    "import numpy as np\n",
    "import pylab as plt\n",
    "X=num.loadtxt(\"stats.csv\",delimiter=\",\");"
   ]
  },
  {
   "cell_type": "code",
   "execution_count": null,
   "metadata": {
    "collapsed": false
   },
   "outputs": [],
   "source": [
    "fig, ax1 = plt.subplots()\n",
    "t = X[:,0]\n",
    "s1=X[:,1]\n",
    "p1, = ax1.plot(t, s1, 'b.')\n",
    "ax1.set_xlabel('epoch iteration')\n",
    "# Make the y-axis label and tick labels match the line color.\n",
    "ax1.set_ylabel('LogLoss', color='b')\n",
    "for tl in ax1.get_yticklabels():\n",
    "    tl.set_color('b')\n",
    "\n",
    "\n",
    "ax2 = ax1.twinx()\n",
    "s2 = X[:,2]\n",
    "s3=X[:,3]\n",
    "p2,=ax2.plot(t, s2, 'r.')\n",
    "p3,=ax2.plot(t,s3,'c.')\n",
    "ax2.set_ylabel('train/test accuracy', color='k')\n",
    "for tl in ax2.get_yticklabels():\n",
    "    tl.set_color('k')\n",
    "    \n",
    "    \n",
    "plt.legend([p1,p2,p3],[\"LogLoss\",\"Training accuracy\",\"Validation Accuracy\"],loc=3,fontsize=11)\n",
    "plt.show()"
   ]
  },
  {
   "cell_type": "code",
   "execution_count": null,
   "metadata": {
    "collapsed": true
   },
   "outputs": [],
   "source": []
  },
  {
   "cell_type": "code",
   "execution_count": null,
   "metadata": {
    "collapsed": true
   },
   "outputs": [],
   "source": []
  }
 ],
 "metadata": {
  "kernelspec": {
   "display_name": "Python 3",
   "language": "python",
   "name": "python3"
  },
  "language_info": {
   "codemirror_mode": {
    "name": "ipython",
    "version": 3
   },
   "file_extension": ".py",
   "mimetype": "text/x-python",
   "name": "python",
   "nbconvert_exporter": "python",
   "pygments_lexer": "ipython3",
   "version": "3.4.3"
  }
 },
 "nbformat": 4,
 "nbformat_minor": 0
}
